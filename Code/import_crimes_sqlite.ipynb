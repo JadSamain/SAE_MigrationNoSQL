{
 "cells": [
  {
   "cell_type": "markdown",
   "id": "7eda50fb",
   "metadata": {},
   "source": [
    "# Importation des données de Crimes.xlsx vers SQLite\n",
    "Ce notebook charge un fichier Excel et insère ses données dans une base SQLite."
   ]
  },
  {
   "cell_type": "code",
   "execution_count": 16,
   "id": "133c36ac",
   "metadata": {},
   "outputs": [],
   "source": [
    "\n",
    "import sqlite3\n",
    "import pandas as pd\n",
    "import openpyxl"
   ]
  },
  {
   "cell_type": "markdown",
   "id": "4123865c",
   "metadata": {},
   "source": [
    "### Lecture du fichier Excel"
   ]
  },
  {
   "cell_type": "code",
   "execution_count": 20,
   "id": "da4dac2c",
   "metadata": {},
   "outputs": [],
   "source": [
    "file_path = r\"C:\\Users\\JadS\\Desktop\\IUT\\SAE_MigrationNoSQL\\CSV_Modifies\\Crimes.xlsx\"\n",
    "xls = pd.ExcelFile(file_path)"
   ]
  },
  {
   "cell_type": "markdown",
   "id": "92f79fb1",
   "metadata": {},
   "source": [
    "### Connexion à la base SQLite et création des tables"
   ]
  },
  {
   "cell_type": "code",
   "execution_count": null,
   "id": "2b7dadf7",
   "metadata": {},
   "outputs": [
    {
     "data": {
      "text/plain": [
       "<sqlite3.Cursor at 0x1cd351fc440>"
      ]
     },
     "execution_count": 23,
     "metadata": {},
     "output_type": "execute_result"
    }
   ],
   "source": [
    "# Connexion à la base SQLite\n",
    "db_path = r\"C:\\Users\\JadS\\Desktop\\IUT\\SAE_MigrationNoSQL\\BD\\bdd\"\n",
    "conn = sqlite3.connect(db_path)\n",
    "cursor = conn.cursor()\n",
    "\n",
    "# Création des tables\n",
    "cursor.executescript('''\n",
    "CREATE TABLE IF NOT EXISTS Crime (\n",
    "   code_index VARCHAR(50) PRIMARY KEY,\n",
    "   lib_index VARCHAR(50)\n",
    ");\n",
    "\n",
    "CREATE TABLE IF NOT EXISTS Departement (\n",
    "   id_dep VARCHAR(50) PRIMARY KEY,\n",
    "   lib_dep VARCHAR(50)\n",
    ");\n",
    "\n",
    "CREATE TABLE IF NOT EXISTS Brigade (\n",
    "   id_brigade VARCHAR(50) PRIMARY KEY,\n",
    "   lib_brigade VARCHAR(50),\n",
    "   id_dep VARCHAR(50),\n",
    "   is_pn VARCHAR(50),\n",
    "   id_dep_1 VARCHAR(50) NOT NULL,\n",
    "   FOREIGN KEY(id_dep_1) REFERENCES Departement(id_dep)\n",
    ");\n",
    "\n",
    "CREATE TABLE IF NOT EXISTS PN (\n",
    "   id_pn VARCHAR(50) PRIMARY KEY,\n",
    "   id_dep VARCHAR(50),\n",
    "   perimetre VARCHAR(50),\n",
    "   id_brigade VARCHAR(50) NOT NULL UNIQUE,\n",
    "   FOREIGN KEY(id_brigade) REFERENCES Brigade(id_brigade)\n",
    ");\n",
    "\n",
    "CREATE TABLE IF NOT EXISTS GN (\n",
    "   id_gn VARCHAR(50) PRIMARY KEY,\n",
    "   id_dep VARCHAR(50),\n",
    "   id_brigade VARCHAR(50) NOT NULL UNIQUE,\n",
    "   FOREIGN KEY(id_brigade) REFERENCES Brigade(id_brigade)\n",
    ");\n",
    "\n",
    "CREATE TABLE IF NOT EXISTS Enregistrer (\n",
    "   code_index VARCHAR(50),\n",
    "   id_brigade_1 VARCHAR(50),\n",
    "   id_brigade VARCHAR(50),\n",
    "   id_crime VARCHAR(50),\n",
    "   annee VARCHAR(50),\n",
    "   PRIMARY KEY(code_index, id_brigade_1),\n",
    "   FOREIGN KEY(code_index) REFERENCES Crime(code_index),\n",
    "   FOREIGN KEY(id_brigade_1) REFERENCES Brigade(id_brigade)\n",
    ");\n",
    "''')\n",
    "\n"
   ]
  },
  {
   "cell_type": "code",
   "execution_count": 19,
   "id": "78eb2b39",
   "metadata": {},
   "outputs": [
    {
     "name": "stdout",
     "output_type": "stream",
     "text": [
      "Base de données mise à jour avec succès !\n"
     ]
    }
   ],
   "source": [
    "# Insertion des données\n",
    "for sheet_name in xls.sheet_names:\n",
    "    df = xls.parse(sheet_name)\n",
    "    df = df.iloc[2:].reset_index(drop=True)  # Suppression des en-têtes inutiles\n",
    "\n",
    "    # Extraire les noms des CSP (PN) ou CGD (GN) à partir de la ligne 2, à droite de C2\n",
    "    csp_cgd_list = df.columns[2:].unique().tolist()\n",
    "    \n",
    "    for csp_cgd in csp_cgd_list:\n",
    "        cursor.execute(\"INSERT OR IGNORE INTO Brigade (lib_brigade, is_pn) VALUES (?, ?)\",\n",
    "                       (csp_cgd, \"Services PN\" in sheet_name))\n",
    "        cursor.execute(\"SELECT id_brigade FROM Brigade WHERE lib_brigade = ?\", (csp_cgd,))\n",
    "        id_brigade = cursor.fetchone()\n",
    "        \n",
    "        if id_brigade:\n",
    "            id_brigade = id_brigade[0]\n",
    "            if isinstance(id_brigade, int):\n",
    "                if \"Services PN\" in sheet_name:\n",
    "                    cursor.execute(\"INSERT OR IGNORE INTO PN (lib_pn, perimetre, id_brigade) VALUES (?, ?, ?)\",\n",
    "                                   (csp_cgd, None, id_brigade))\n",
    "                elif \"Services GN\" in sheet_name:\n",
    "                    cursor.execute(\"INSERT OR IGNORE INTO GN (lib_gn, id_brigade) VALUES (?, ?)\", (csp_cgd, id_brigade))\n",
    "            else:\n",
    "                print(f\"Erreur: id_brigade non valide pour {csp_cgd}\")\n",
    "\n",
    "# Valider et fermer la connexion\n",
    "conn.commit()\n",
    "conn.close()\n",
    "\n",
    "print(\"Base de données mise à jour avec succès !\")"
   ]
  }
 ],
 "metadata": {
  "kernelspec": {
   "display_name": "Python 3",
   "language": "python",
   "name": "python3"
  },
  "language_info": {
   "codemirror_mode": {
    "name": "ipython",
    "version": 3
   },
   "file_extension": ".py",
   "mimetype": "text/x-python",
   "name": "python",
   "nbconvert_exporter": "python",
   "pygments_lexer": "ipython3",
   "version": "3.13.2"
  }
 },
 "nbformat": 4,
 "nbformat_minor": 5
}

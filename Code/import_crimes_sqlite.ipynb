{
 "cells": [
  {
   "cell_type": "markdown",
   "id": "7eda50fb",
   "metadata": {},
   "source": [
    "# Importation des données de Crimes.xlsx vers SQLite\n",
    "Ce notebook charge un fichier Excel et insère ses données dans une base SQLite."
   ]
  },
  {
   "cell_type": "code",
   "execution_count": 1,
   "id": "133c36ac",
   "metadata": {},
   "outputs": [],
   "source": [
    "\n",
    "import sqlite3\n",
    "import pandas as pd\n",
    "import openpyxl"
   ]
  },
  {
   "cell_type": "markdown",
   "id": "4123865c",
   "metadata": {},
   "source": [
    "### Lecture du fichier Excel"
   ]
  },
  {
   "cell_type": "code",
   "execution_count": 2,
   "id": "da4dac2c",
   "metadata": {},
   "outputs": [],
   "source": [
    "file_path = r\"C:\\Users\\JadS\\Desktop\\IUT\\SAE_MigrationNoSQL\\CSV_Modifies\\Crimes.xlsx\"\n",
    "xls = pd.ExcelFile(file_path)"
   ]
  },
  {
   "cell_type": "markdown",
   "id": "92f79fb1",
   "metadata": {},
   "source": [
    "### Connexion à la base SQLite et création des tables"
   ]
  },
  {
   "cell_type": "code",
   "execution_count": 3,
   "id": "2b7dadf7",
   "metadata": {},
   "outputs": [
    {
     "ename": "OperationalError",
     "evalue": "table Crime already exists",
     "output_type": "error",
     "traceback": [
      "\u001b[1;31m---------------------------------------------------------------------------\u001b[0m",
      "\u001b[1;31mOperationalError\u001b[0m                          Traceback (most recent call last)",
      "Cell \u001b[1;32mIn[3], line 7\u001b[0m\n\u001b[0;32m      4\u001b[0m cursor \u001b[38;5;241m=\u001b[39m conn\u001b[38;5;241m.\u001b[39mcursor()\n\u001b[0;32m      6\u001b[0m \u001b[38;5;66;03m# Création des tables\u001b[39;00m\n\u001b[1;32m----> 7\u001b[0m \u001b[43mcursor\u001b[49m\u001b[38;5;241;43m.\u001b[39;49m\u001b[43mexecutescript\u001b[49m\u001b[43m(\u001b[49m\u001b[38;5;124;43m'''\u001b[39;49m\n\u001b[0;32m      8\u001b[0m \u001b[38;5;124;43mCREATE TABLE Crime(\u001b[39;49m\n\u001b[0;32m      9\u001b[0m \u001b[38;5;124;43m   code_index VARCHAR(50),\u001b[39;49m\n\u001b[0;32m     10\u001b[0m \u001b[38;5;124;43m   lib_index VARCHAR(50),\u001b[39;49m\n\u001b[0;32m     11\u001b[0m \u001b[38;5;124;43m   PRIMARY KEY(code_index)\u001b[39;49m\n\u001b[0;32m     12\u001b[0m \u001b[38;5;124;43m);\u001b[39;49m\n\u001b[0;32m     13\u001b[0m \n\u001b[0;32m     14\u001b[0m \u001b[38;5;124;43mCREATE TABLE Departement(\u001b[39;49m\n\u001b[0;32m     15\u001b[0m \u001b[38;5;124;43m   id_dep VARCHAR(50),\u001b[39;49m\n\u001b[0;32m     16\u001b[0m \u001b[38;5;124;43m   lib_dep VARCHAR(50),\u001b[39;49m\n\u001b[0;32m     17\u001b[0m \u001b[38;5;124;43m   PRIMARY KEY(id_dep)\u001b[39;49m\n\u001b[0;32m     18\u001b[0m \u001b[38;5;124;43m);\u001b[39;49m\n\u001b[0;32m     19\u001b[0m \n\u001b[0;32m     20\u001b[0m \u001b[38;5;124;43mCREATE TABLE Brigade(\u001b[39;49m\n\u001b[0;32m     21\u001b[0m \u001b[38;5;124;43m   id_brigade VARCHAR(50),\u001b[39;49m\n\u001b[0;32m     22\u001b[0m \u001b[38;5;124;43m   lib_brigade VARCHAR(50),\u001b[39;49m\n\u001b[0;32m     23\u001b[0m \u001b[38;5;124;43m   id_dep VARCHAR(50),\u001b[39;49m\n\u001b[0;32m     24\u001b[0m \u001b[38;5;124;43m   perimetre VARCHAR(50),\u001b[39;49m\n\u001b[0;32m     25\u001b[0m \u001b[38;5;124;43m   is_pn VARCHAR(50),\u001b[39;49m\n\u001b[0;32m     26\u001b[0m \u001b[38;5;124;43m   id_dep_1 VARCHAR(50) NOT NULL,\u001b[39;49m\n\u001b[0;32m     27\u001b[0m \u001b[38;5;124;43m   PRIMARY KEY(id_brigade),\u001b[39;49m\n\u001b[0;32m     28\u001b[0m \u001b[38;5;124;43m   FOREIGN KEY(id_dep_1) REFERENCES Departement(id_dep)\u001b[39;49m\n\u001b[0;32m     29\u001b[0m \u001b[38;5;124;43m);\u001b[39;49m\n\u001b[0;32m     30\u001b[0m \n\u001b[0;32m     31\u001b[0m \u001b[38;5;124;43mCREATE TABLE PN(\u001b[39;49m\n\u001b[0;32m     32\u001b[0m \u001b[38;5;124;43m   id_pn VARCHAR(50),\u001b[39;49m\n\u001b[0;32m     33\u001b[0m \u001b[38;5;124;43m   id_dep VARCHAR(50),\u001b[39;49m\n\u001b[0;32m     34\u001b[0m \u001b[38;5;124;43m   perimetre VARCHAR(50),\u001b[39;49m\n\u001b[0;32m     35\u001b[0m \u001b[38;5;124;43m   id_brigade VARCHAR(50) NOT NULL,\u001b[39;49m\n\u001b[0;32m     36\u001b[0m \u001b[38;5;124;43m   PRIMARY KEY(id_pn),\u001b[39;49m\n\u001b[0;32m     37\u001b[0m \u001b[38;5;124;43m   UNIQUE(id_brigade),\u001b[39;49m\n\u001b[0;32m     38\u001b[0m \u001b[38;5;124;43m   FOREIGN KEY(id_brigade) REFERENCES Brigade(id_brigade)\u001b[39;49m\n\u001b[0;32m     39\u001b[0m \u001b[38;5;124;43m);\u001b[39;49m\n\u001b[0;32m     40\u001b[0m \n\u001b[0;32m     41\u001b[0m \u001b[38;5;124;43mCREATE TABLE GN(\u001b[39;49m\n\u001b[0;32m     42\u001b[0m \u001b[38;5;124;43m   id_gn VARCHAR(50),\u001b[39;49m\n\u001b[0;32m     43\u001b[0m \u001b[38;5;124;43m   id_dep VARCHAR(50),\u001b[39;49m\n\u001b[0;32m     44\u001b[0m \u001b[38;5;124;43m   id_brigade VARCHAR(50) NOT NULL,\u001b[39;49m\n\u001b[0;32m     45\u001b[0m \u001b[38;5;124;43m   PRIMARY KEY(id_gn),\u001b[39;49m\n\u001b[0;32m     46\u001b[0m \u001b[38;5;124;43m   UNIQUE(id_brigade),\u001b[39;49m\n\u001b[0;32m     47\u001b[0m \u001b[38;5;124;43m   FOREIGN KEY(id_brigade) REFERENCES Brigade(id_brigade)\u001b[39;49m\n\u001b[0;32m     48\u001b[0m \u001b[38;5;124;43m);\u001b[39;49m\n\u001b[0;32m     49\u001b[0m \n\u001b[0;32m     50\u001b[0m \u001b[38;5;124;43mCREATE TABLE Enregistrer(\u001b[39;49m\n\u001b[0;32m     51\u001b[0m \u001b[38;5;124;43m   code_index VARCHAR(50),\u001b[39;49m\n\u001b[0;32m     52\u001b[0m \u001b[38;5;124;43m   id_brigade_1 VARCHAR(50),\u001b[39;49m\n\u001b[0;32m     53\u001b[0m \u001b[38;5;124;43m   id_brigade VARCHAR(50),\u001b[39;49m\n\u001b[0;32m     54\u001b[0m \u001b[38;5;124;43m   id_crime VARCHAR(50),\u001b[39;49m\n\u001b[0;32m     55\u001b[0m \u001b[38;5;124;43m   annee VARCHAR(50),\u001b[39;49m\n\u001b[0;32m     56\u001b[0m \u001b[38;5;124;43m   PRIMARY KEY(code_index, id_brigade_1),\u001b[39;49m\n\u001b[0;32m     57\u001b[0m \u001b[38;5;124;43m   FOREIGN KEY(code_index) REFERENCES Crime(code_index),\u001b[39;49m\n\u001b[0;32m     58\u001b[0m \u001b[38;5;124;43m   FOREIGN KEY(id_brigade_1) REFERENCES Brigade(id_brigade)\u001b[39;49m\n\u001b[0;32m     59\u001b[0m \u001b[38;5;124;43m);\u001b[39;49m\n\u001b[0;32m     60\u001b[0m \n\u001b[0;32m     61\u001b[0m \u001b[38;5;124;43m'''\u001b[39;49m\u001b[43m)\u001b[49m\n",
      "\u001b[1;31mOperationalError\u001b[0m: table Crime already exists"
     ]
    }
   ],
   "source": [
    "# Connexion à la base SQLite\n",
    "db_path = r\"C:\\Users\\JadS\\Desktop\\IUT\\SAE_MigrationNoSQL\\BD\\bdd\"\n",
    "conn = sqlite3.connect(db_path)\n",
    "cursor = conn.cursor()\n",
    "\n",
    "# Création des tables\n",
    "cursor.executescript('''\n",
    "CREATE TABLE Crime(\n",
    "   code_index VARCHAR(50),\n",
    "   lib_index VARCHAR(50),\n",
    "   PRIMARY KEY(code_index)\n",
    ");\n",
    "\n",
    "CREATE TABLE Departement(\n",
    "   id_dep VARCHAR(50),\n",
    "   lib_dep VARCHAR(50),\n",
    "   PRIMARY KEY(id_dep)\n",
    ");\n",
    "\n",
    "CREATE TABLE Brigade(\n",
    "   id_brigade VARCHAR(50),\n",
    "   lib_brigade VARCHAR(50),\n",
    "   id_dep VARCHAR(50),\n",
    "   perimetre VARCHAR(50),\n",
    "   is_pn VARCHAR(50),\n",
    "   id_dep_1 VARCHAR(50) NOT NULL,\n",
    "   PRIMARY KEY(id_brigade),\n",
    "   FOREIGN KEY(id_dep_1) REFERENCES Departement(id_dep)\n",
    ");\n",
    "\n",
    "CREATE TABLE PN(\n",
    "   id_pn VARCHAR(50),\n",
    "   id_dep VARCHAR(50),\n",
    "   perimetre VARCHAR(50),\n",
    "   id_brigade VARCHAR(50) NOT NULL,\n",
    "   PRIMARY KEY(id_pn),\n",
    "   UNIQUE(id_brigade),\n",
    "   FOREIGN KEY(id_brigade) REFERENCES Brigade(id_brigade)\n",
    ");\n",
    "\n",
    "CREATE TABLE GN(\n",
    "   id_gn VARCHAR(50),\n",
    "   id_dep VARCHAR(50),\n",
    "   id_brigade VARCHAR(50) NOT NULL,\n",
    "   PRIMARY KEY(id_gn),\n",
    "   UNIQUE(id_brigade),\n",
    "   FOREIGN KEY(id_brigade) REFERENCES Brigade(id_brigade)\n",
    ");\n",
    "\n",
    "CREATE TABLE Enregistrer(\n",
    "   code_index VARCHAR(50),\n",
    "   id_brigade_1 VARCHAR(50),\n",
    "   id_brigade VARCHAR(50),\n",
    "   id_crime VARCHAR(50),\n",
    "   annee VARCHAR(50),\n",
    "   PRIMARY KEY(code_index, id_brigade_1),\n",
    "   FOREIGN KEY(code_index) REFERENCES Crime(code_index),\n",
    "   FOREIGN KEY(id_brigade_1) REFERENCES Brigade(id_brigade)\n",
    ");\n",
    "\n",
    "''')\n",
    "\n"
   ]
  },
  {
   "cell_type": "code",
   "execution_count": null,
   "id": "78eb2b39",
   "metadata": {},
   "outputs": [
    {
     "name": "stdout",
     "output_type": "stream",
     "text": [
      "Base de données mise à jour avec succès !\n"
     ]
    }
   ],
   "source": [
    "# Insertion des données\n",
    "for sheet_name in xls.sheet_names:\n",
    "    df = xls.parse(sheet_name)\n",
    "    df = df.iloc[2:].reset_index(drop=True)  # Suppression des en-têtes inutiles\n",
    "\n",
    "    # Extraire les noms des CSP (PN) ou CGD (GN) à partir de la ligne 2, à droite de C2\n",
    "    csp_cgd_list = df.columns[2:].unique().tolist()\n",
    "    \n",
    "    for csp_cgd in csp_cgd_list:\n",
    "        cursor.execute(\"INSERT OR IGNORE INTO Brigade (lib_brigade, is_pn) VALUES (?, ?)\",\n",
    "                       (csp_cgd, \"Services PN\" in sheet_name))\n",
    "        cursor.execute(\"SELECT id_brigade FROM Brigade WHERE lib_brigade = ?\", (csp_cgd,))\n",
    "        id_brigade = cursor.fetchone()\n",
    "        \n",
    "        if id_brigade:\n",
    "            id_brigade = id_brigade[0]\n",
    "            if isinstance(id_brigade, int):\n",
    "                if \"Services PN\" in sheet_name:\n",
    "                    cursor.execute(\"INSERT OR IGNORE INTO PN (lib_pn, perimetre, id_brigade) VALUES (?, ?, ?)\",\n",
    "                                   (csp_cgd, None, id_brigade))\n",
    "                elif \"Services GN\" in sheet_name:\n",
    "                    cursor.execute(\"INSERT OR IGNORE INTO GN (lib_gn, id_brigade) VALUES (?, ?)\", (csp_cgd, id_brigade))\n",
    "            else:\n",
    "                print(f\"Erreur: id_brigade non valide pour {csp_cgd}\")\n",
    "\n",
    "# Valider et fermer la connexion\n",
    "conn.commit()\n",
    "conn.close()\n",
    "\n",
    "print(\"Base de données mise à jour avec succès !\")"
   ]
  }
 ],
 "metadata": {
  "kernelspec": {
   "display_name": "Python 3",
   "language": "python",
   "name": "python3"
  },
  "language_info": {
   "codemirror_mode": {
    "name": "ipython",
    "version": 3
   },
   "file_extension": ".py",
   "mimetype": "text/x-python",
   "name": "python",
   "nbconvert_exporter": "python",
   "pygments_lexer": "ipython3",
   "version": "3.13.2"
  }
 },
 "nbformat": 4,
 "nbformat_minor": 5
}

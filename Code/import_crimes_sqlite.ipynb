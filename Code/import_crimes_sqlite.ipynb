{
 "cells": [
  {
   "cell_type": "markdown",
   "id": "7eda50fb",
   "metadata": {},
   "source": [
    "# Importation des données de Crimes.xlsx vers SQLite\n",
    "Ce notebook charge un fichier Excel et insère ses données dans une base SQLite."
   ]
  },
  {
   "cell_type": "code",
   "execution_count": 10,
   "id": "133c36ac",
   "metadata": {},
   "outputs": [],
   "source": [
    "\n",
    "import sqlite3\n",
    "import pandas as pd\n",
    "import openpyxl"
   ]
  },
  {
   "cell_type": "markdown",
   "id": "4123865c",
   "metadata": {},
   "source": [
    "### Lecture du fichier Excel"
   ]
  },
  {
   "cell_type": "code",
   "execution_count": 11,
   "id": "da4dac2c",
   "metadata": {},
   "outputs": [],
   "source": [
    "file_path = r\"C:\\Users\\JadSamain\\OneDrive - ISTEP\\Bureau\\IUT\\SAE_NoSQL\\SAE_MigrationNoSQL\\CSV_Modifies\\Crimes.xlsx\"\n",
    "xls = pd.ExcelFile(file_path)"
   ]
  },
  {
   "cell_type": "markdown",
   "id": "92f79fb1",
   "metadata": {},
   "source": [
    "### Connexion à la base SQLite et création des tables"
   ]
  },
  {
   "cell_type": "code",
   "execution_count": 12,
   "id": "2b7dadf7",
   "metadata": {},
   "outputs": [
    {
     "name": "stdout",
     "output_type": "stream",
     "text": [
      "Tables créées avec succès.\n"
     ]
    }
   ],
   "source": [
    "# Connexion à la base SQLite\n",
    "db_path = r\"C:\\Users\\JadSamain\\OneDrive - ISTEP\\Bureau\\IUT\\SAE_NoSQL\\SAE_MigrationNoSQL\\BD\\bdd\"\n",
    "conn = sqlite3.connect(db_path)\n",
    "cursor = conn.cursor()\n",
    "\n",
    "# Création des tables\n",
    "cursor.executescript('''\n",
    "CREATE TABLE IF NOT EXISTS Departement (\n",
    "    id_dep TEXT PRIMARY KEY,\n",
    "    lib_dep TEXT\n",
    ");\n",
    "\n",
    "CREATE TABLE IF NOT EXISTS Brigade (\n",
    "    id_brigade INTEGER PRIMARY KEY AUTOINCREMENT,\n",
    "    lib_brigade TEXT,\n",
    "    is_pn BOOLEAN,\n",
    "    id_dep TEXT,\n",
    "    FOREIGN KEY (id_dep) REFERENCES Departement(id_dep)\n",
    ");\n",
    "\n",
    "CREATE TABLE IF NOT EXISTS Crime (\n",
    "    code_index INTEGER PRIMARY KEY,\n",
    "    lib_index TEXT\n",
    ");\n",
    "\n",
    "CREATE TABLE IF NOT EXISTS Enregistrer (\n",
    "    id_brigade INTEGER,\n",
    "    id_crime INTEGER,\n",
    "    annee INTEGER,\n",
    "    PRIMARY KEY (id_brigade, id_crime, annee),\n",
    "    FOREIGN KEY (id_brigade) REFERENCES Brigade(id_brigade),\n",
    "    FOREIGN KEY (id_crime) REFERENCES Crime(code_index)\n",
    ");\n",
    "\n",
    "CREATE TABLE IF NOT EXISTS PN (\n",
    "    id_pn INTEGER PRIMARY KEY AUTOINCREMENT,\n",
    "    lib_pn TEXT,\n",
    "    perimetre TEXT,\n",
    "    id_brigade INTEGER,\n",
    "    FOREIGN KEY (id_brigade) REFERENCES Brigade(id_brigade)\n",
    ");\n",
    "\n",
    "CREATE TABLE IF NOT EXISTS GN (\n",
    "    id_gn INTEGER PRIMARY KEY AUTOINCREMENT,\n",
    "    lib_gn TEXT,\n",
    "    id_brigade INTEGER,\n",
    "    FOREIGN KEY (id_brigade) REFERENCES Brigade(id_brigade)\n",
    ");\n",
    "''')\n",
    "\n",
    "print(\"Tables créées avec succès.\")"
   ]
  },
  {
   "cell_type": "code",
   "execution_count": 13,
   "id": "78eb2b39",
   "metadata": {},
   "outputs": [
    {
     "name": "stdout",
     "output_type": "stream",
     "text": [
      "Base de données créée avec succès !\n"
     ]
    }
   ],
   "source": [
    "# Insertion des données\n",
    "for sheet_name in xls.sheet_names:\n",
    "    df = xls.parse(sheet_name)\n",
    "    df = df.iloc[2:]  # Suppression des en-têtes inutiles\n",
    "    df = df.reset_index(drop=True)\n",
    "    \n",
    "    for i, row in df.iterrows():\n",
    "        crime_index = row.iloc[0]\n",
    "        crime_lib = row.iloc[1]\n",
    "        cursor.execute(\"INSERT OR IGNORE INTO Crime (code_index, lib_index) VALUES (?, ?)\", (crime_index, crime_lib))\n",
    "        \n",
    "        for col in df.columns[2:]:\n",
    "            brigade_lib = col\n",
    "            count = row[col]\n",
    "            if count > 0:\n",
    "                cursor.execute(\"INSERT OR IGNORE INTO Brigade (lib_brigade, is_pn) VALUES (?, ?)\", (brigade_lib, sheet_name == 'Services PN 2012'))\n",
    "                cursor.execute(\"SELECT id_brigade FROM Brigade WHERE lib_brigade = ?\", (brigade_lib,))\n",
    "                id_brigade = cursor.fetchone()\n",
    "                if id_brigade:\n",
    "                    id_brigade = id_brigade[0]\n",
    "                    cursor.execute(\"INSERT OR IGNORE INTO Enregistrer (id_brigade, id_crime, annee) VALUES (?, ?, 2012)\", (id_brigade, crime_index))\n",
    "\n",
    "# Valider et fermer la connexion\n",
    "conn.commit()\n",
    "conn.close()\n",
    "\n",
    "print(\"Base de données créée avec succès !\")"
   ]
  },
  {
   "cell_type": "code",
   "execution_count": 16,
   "id": "5e8bc72d",
   "metadata": {},
   "outputs": [
    {
     "name": "stdout",
     "output_type": "stream",
     "text": [
      "Aucune cellule fusionnée contenant 'CGD' n'a été trouvée.\n"
     ]
    }
   ],
   "source": [
    "from openpyxl import load_workbook\n",
    "\n",
    "# Charger le fichier Excel\n",
    "fichier_excel = r\"C:\\Users\\JadSamain\\OneDrive - ISTEP\\Bureau\\IUT\\SAE_NoSQL\\SAE_MigrationNoSQL\\CSV_Modifies\\Crimes.xlsx\"\n",
    "wb = load_workbook(fichier_excel)\n",
    "ws = wb.active  # Utilise la première feuille active\n",
    "\n",
    "# Récupérer les cellules fusionnées\n",
    "merged_cells = ws.merged_cells.ranges\n",
    "\n",
    "# Trouver la cellule fusionnée contenant \"Libellé index \\ CGD\"\n",
    "cell_found = False\n",
    "for merged_cell in merged_cells:\n",
    "    cell = ws.cell(row=merged_cell.min_row, column=merged_cell.min_col)\n",
    "    if \"CGD\" in str(cell.value):  # Vérifier si c'est la cellule recherchée\n",
    "        col_start = merged_cell.min_col\n",
    "        row_start = merged_cell.min_row\n",
    "        cell_found = True\n",
    "        break\n",
    "\n",
    "# Vérification si une cellule fusionnée a été trouvée\n",
    "if not cell_found:\n",
    "    print(\"Aucune cellule fusionnée contenant 'CGD' n'a été trouvée.\")\n",
    "else:\n",
    "    # Lire les valeurs des colonnes à droite\n",
    "    cgd_values = []\n",
    "    col = col_start + 1  # Première colonne à droite\n",
    "    \n",
    "    # Lire toutes les valeurs tant qu'on ne rencontre pas une cellule vide\n",
    "    while col <= ws.max_column and ws.cell(row=row_start, column=col).value:\n",
    "        cgd_values.append(ws.cell(row=row_start, column=col).value)\n",
    "        col += 1\n",
    "\n",
    "    # Afficher les résultats\n",
    "    print(\"Cellule fusionnée trouvée:\", cell.value)\n",
    "    print(\"Données à droite:\", cgd_values)\n"
   ]
  }
 ],
 "metadata": {
  "kernelspec": {
   "display_name": "Python 3",
   "language": "python",
   "name": "python3"
  },
  "language_info": {
   "codemirror_mode": {
    "name": "ipython",
    "version": 3
   },
   "file_extension": ".py",
   "mimetype": "text/x-python",
   "name": "python",
   "nbconvert_exporter": "python",
   "pygments_lexer": "ipython3",
   "version": "3.12.0"
  }
 },
 "nbformat": 4,
 "nbformat_minor": 5
}
